{
 "cells": [
  {
   "cell_type": "code",
   "execution_count": 1,
   "id": "ea9134c2",
   "metadata": {},
   "outputs": [],
   "source": [
    "from openai import OpenAI\n",
    "import requests"
   ]
  },
  {
   "cell_type": "code",
   "execution_count": null,
   "id": "afb0c0f0",
   "metadata": {},
   "outputs": [],
   "source": [
    "def deepseek_chat(api_key: str, conversation: list) -> str:\n",
    "    url = \"https://api.deepseek.com\"\n",
    "    headers = {\n",
    "        \"Authorization\": f\"Bearer {api_key}\",\n",
    "        \"Content-Type\": \"application/json\"\n",
    "    }\n",
    "    data = {\n",
    "        \"model\": \"deepseek-chat\",\n",
    "        \"messages\": conversation,\n",
    "        \"stream\": False\n",
    "    }\n",
    "    response = requests.post(url, headers=headers, json=data)\n",
    "    return response.json()[\"choices\"][0][\"message\"][\"content\"]\n",
    "\n",
    "# Example usage\n",
    "API_KEY = \"sk-1718400f70c641058c6343acb0363e5a\"\n",
    "conversation = []\n",
    "\n",
    "user_input = input(\"\\nYou: \")\n",
    "print(\"Prompt:\" + user_input)\n",
    "\n",
    "# Add user message to conversation\n",
    "conversation.append({\"role\": \"user\", \"content\": user_input})\n",
    "\n",
    "# Get response from API\n",
    "response = deepseek_chat(API_KEY, conversation)\n",
    "print(f\"\\nDeepSeek: {response}\")\n",
    "\n",
    "# Add assistant response to conversation\n",
    "conversation.append({\"role\": \"assistant\", \"content\": response})"
   ]
  },
  {
   "cell_type": "code",
   "execution_count": null,
   "id": "74a85c34",
   "metadata": {},
   "outputs": [
    {
     "name": "stdout",
     "output_type": "stream",
     "text": [
      "Hello! How can I assist you today? 😊\n"
     ]
    }
   ],
   "source": [
    "from openai import OpenAI\n",
    "\n",
    "client = OpenAI(api_key=\"sk-1718400f70c641058c6343acb0363e5a\", base_url=\"https://api.deepseek.com\")\n",
    "\n",
    "response = client.chat.completions.create(\n",
    "    model=\"deepseek-chat\",\n",
    "    messages=[\n",
    "        {\"role\": \"system\", \"content\": \"You are a helping to generate synthetic data\"},\n",
    "        {\"role\": \"user\", \"content\": \"Hello\"},\n",
    "    ],\n",
    "    stream=False\n",
    ")\n",
    "\n",
    "print(response.choices[0].message.content)"
   ]
  }
 ],
 "metadata": {
  "kernelspec": {
   "display_name": "Python 3",
   "language": "python",
   "name": "python3"
  },
  "language_info": {
   "codemirror_mode": {
    "name": "ipython",
    "version": 3
   },
   "file_extension": ".py",
   "mimetype": "text/x-python",
   "name": "python",
   "nbconvert_exporter": "python",
   "pygments_lexer": "ipython3",
   "version": "3.13.3"
  }
 },
 "nbformat": 4,
 "nbformat_minor": 5
}
